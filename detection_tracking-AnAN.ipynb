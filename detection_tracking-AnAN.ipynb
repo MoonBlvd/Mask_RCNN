{
 "cells": [
  {
   "cell_type": "markdown",
   "metadata": {},
   "source": [
    "# Mask R-CNN Demo\n",
    "\n",
    "A quick intro to using the pre-trained model to detect and segment objects."
   ]
  },
  {
   "cell_type": "code",
   "execution_count": 1,
   "metadata": {},
   "outputs": [
    {
     "name": "stderr",
     "output_type": "stream",
     "text": [
      "Using TensorFlow backend.\n"
     ]
    }
   ],
   "source": [
    "import os\n",
    "import sys\n",
    "import random\n",
    "import math\n",
    "import numpy as np\n",
    "import skimage.io\n",
    "import matplotlib\n",
    "import matplotlib.pyplot as plt\n",
    "\n",
    "# Root directory of the project\n",
    "ROOT_DIR = os.path.abspath(\".\")\n",
    "\n",
    "# Import Mask RCNN\n",
    "sys.path.append(ROOT_DIR)  # To find local version of the library\n",
    "from mrcnn import utils\n",
    "import mrcnn.model as modellib\n",
    "from mrcnn import visualize\n",
    "# Import COCO config\n",
    "\n",
    "sys.path.append(os.path.join(ROOT_DIR, \"samples/coco/\"))  # To find local version\n",
    "import coco\n",
    "\n",
    "# import tracking\n",
    "from sort.sort import Sort\n",
    "import glob\n",
    "\n",
    "# %matplotlib inline \n",
    "\n",
    "# Directory to save logs and trained model\n",
    "MODEL_DIR = os.path.join(ROOT_DIR, \"logs\")\n",
    "\n",
    "# Local path to trained weights file\n",
    "COCO_MODEL_PATH = os.path.join(ROOT_DIR, \"pretrained_models\", \"mask_rcnn_coco.h5\")\n",
    "# Download COCO trained weights from Releases if needed\n",
    "if not os.path.exists(COCO_MODEL_PATH):\n",
    "    utils.download_trained_weights(COCO_MODEL_PATH)\n",
    "\n",
    "# Directory of images to run detection on\n",
    "IMAGE_DIR = os.path.join(ROOT_DIR, \"images\")\n",
    "\n",
    "# indicate GPUs\n",
    "os.environ[\"CUDA_DEVICE_ORDER\"]=\"PCI_BUS_ID\"\n",
    "os.environ[\"CUDA_VISIBLE_DEVICES\"]=\"0\""
   ]
  },
  {
   "cell_type": "markdown",
   "metadata": {},
   "source": [
    "## Configurations\n",
    "\n",
    "We'll be using a model trained on the MS-COCO dataset. The configurations of this model are in the ```CocoConfig``` class in ```coco.py```.\n",
    "\n",
    "For inferencing, modify the configurations a bit to fit the task. To do so, sub-class the ```CocoConfig``` class and override the attributes you need to change."
   ]
  },
  {
   "cell_type": "code",
   "execution_count": 2,
   "metadata": {},
   "outputs": [
    {
     "name": "stdout",
     "output_type": "stream",
     "text": [
      "\n",
      "Configurations:\n",
      "BACKBONE                       resnet101\n",
      "BACKBONE_STRIDES               [4, 8, 16, 32, 64]\n",
      "BATCH_SIZE                     1\n",
      "BBOX_STD_DEV                   [0.1 0.1 0.2 0.2]\n",
      "COMPUTE_BACKBONE_SHAPE         None\n",
      "DETECTION_MAX_INSTANCES        100\n",
      "DETECTION_MIN_CONFIDENCE       0.7\n",
      "DETECTION_NMS_THRESHOLD        0.3\n",
      "FPN_CLASSIF_FC_LAYERS_SIZE     1024\n",
      "GPU_COUNT                      1\n",
      "GRADIENT_CLIP_NORM             5.0\n",
      "IMAGES_PER_GPU                 1\n",
      "IMAGE_MAX_DIM                  1024\n",
      "IMAGE_META_SIZE                93\n",
      "IMAGE_MIN_DIM                  800\n",
      "IMAGE_MIN_SCALE                0\n",
      "IMAGE_RESIZE_MODE              square\n",
      "IMAGE_SHAPE                    [1024 1024    3]\n",
      "LEARNING_MOMENTUM              0.9\n",
      "LEARNING_RATE                  0.001\n",
      "LOSS_WEIGHTS                   {'rpn_class_loss': 1.0, 'rpn_bbox_loss': 1.0, 'mrcnn_class_loss': 1.0, 'mrcnn_bbox_loss': 1.0, 'mrcnn_mask_loss': 1.0}\n",
      "MASK_POOL_SIZE                 14\n",
      "MASK_SHAPE                     [28, 28]\n",
      "MAX_GT_INSTANCES               100\n",
      "MEAN_PIXEL                     [123.7 116.8 103.9]\n",
      "MINI_MASK_SHAPE                (56, 56)\n",
      "NAME                           coco\n",
      "NUM_CLASSES                    81\n",
      "POOL_SIZE                      7\n",
      "POST_NMS_ROIS_INFERENCE        1000\n",
      "POST_NMS_ROIS_TRAINING         2000\n",
      "ROI_POSITIVE_RATIO             0.33\n",
      "RPN_ANCHOR_RATIOS              [0.5, 1, 2]\n",
      "RPN_ANCHOR_SCALES              (32, 64, 128, 256, 512)\n",
      "RPN_ANCHOR_STRIDE              1\n",
      "RPN_BBOX_STD_DEV               [0.1 0.1 0.2 0.2]\n",
      "RPN_NMS_THRESHOLD              0.7\n",
      "RPN_TRAIN_ANCHORS_PER_IMAGE    256\n",
      "STEPS_PER_EPOCH                1000\n",
      "TOP_DOWN_PYRAMID_SIZE          256\n",
      "TRAIN_BN                       False\n",
      "TRAIN_ROIS_PER_IMAGE           200\n",
      "USE_MINI_MASK                  True\n",
      "USE_RPN_ROIS                   True\n",
      "VALIDATION_STEPS               50\n",
      "WEIGHT_DECAY                   0.0001\n",
      "\n",
      "\n"
     ]
    }
   ],
   "source": [
    "class InferenceConfig(coco.CocoConfig):\n",
    "    # Set batch size to 1 since we'll be running inference on\n",
    "    # one image at a time. Batch size = GPU_COUNT * IMAGES_PER_GPU\n",
    "    GPU_COUNT = 1\n",
    "    IMAGES_PER_GPU = 1\n",
    "\n",
    "config = InferenceConfig()\n",
    "config.display()"
   ]
  },
  {
   "cell_type": "markdown",
   "metadata": {},
   "source": [
    "## Create Model and Load Trained Weights"
   ]
  },
  {
   "cell_type": "code",
   "execution_count": 3,
   "metadata": {
    "scrolled": false
   },
   "outputs": [
    {
     "name": "stdout",
     "output_type": "stream",
     "text": [
      "P2: Tensor(\"fpn_p2/BiasAdd:0\", shape=(?, ?, ?, 256), dtype=float32)\n",
      "P3: Tensor(\"fpn_p3/BiasAdd:0\", shape=(?, ?, ?, 256), dtype=float32)\n",
      "rpn_class_logits Tensor(\"rpn_class_logits/concat:0\", shape=(?, ?, 2), dtype=float32)\n",
      "pooled from pyramid ROI align:  (1, ?, 7, 7, 256)\n",
      "shared features:  (?, 1000, 1024)\n",
      "mrcnn_class:  (?, 1000, 81)\n",
      "rpn_rois:  (1, ?, 4)\n",
      "shared_features:  (?, 1000, 1024)\n",
      "rois passed to refine:  (1, ?, 4)\n",
      "rois in refine:  (?, 4)\n",
      "refined_rois used for gather keep:  (1000, 4)\n",
      "keep:  (?,)\n",
      "after gather:  (?, 4)\n",
      "shared feature in refined: Tensor(\"mrcnn_detection/strided_slice_12:0\", shape=(1000, 1024), dtype=float32)\n",
      "detections_batch passed from batch_slice:  (1, ?, 6)\n",
      "features passed from batch_slice:  (1, ?, 1024)\n",
      "keep passed to outside is:  (1, ?, 1024)\n",
      "pooled from pyramid ROI align:  (1, ?, 14, 14, 256)\n"
     ]
    }
   ],
   "source": [
    "# Create model object in inference mode.\n",
    "model = modellib.MaskRCNN(mode=\"inference\", model_dir=MODEL_DIR, config=config)\n",
    "\n",
    "# Load weights trained on MS-COCO\n",
    "model.load_weights(COCO_MODEL_PATH, by_name=True)"
   ]
  },
  {
   "cell_type": "markdown",
   "metadata": {},
   "source": [
    "## Class Names\n",
    "\n",
    "The model classifies objects and returns class IDs, which are integer value that identify each class. Some datasets assign integer values to their classes and some don't. For example, in the MS-COCO dataset, the 'person' class is 1 and 'teddy bear' is 88. The IDs are often sequential, but not always. The COCO dataset, for example, has classes associated with class IDs 70 and 72, but not 71.\n",
    "\n",
    "To improve consistency, and to support training on data from multiple sources at the same time, our ```Dataset``` class assigns it's own sequential integer IDs to each class. For example, if you load the COCO dataset using our ```Dataset``` class, the 'person' class would get class ID = 1 (just like COCO) and the 'teddy bear' class is 78 (different from COCO). Keep that in mind when mapping class IDs to class names.\n",
    "\n",
    "To get the list of class names, you'd load the dataset and then use the ```class_names``` property like this.\n",
    "```\n",
    "# Load COCO dataset\n",
    "dataset = coco.CocoDataset()\n",
    "dataset.load_coco(COCO_DIR, \"train\")\n",
    "dataset.prepare()\n",
    "\n",
    "# Print class names\n",
    "print(dataset.class_names)\n",
    "```\n",
    "\n",
    "We don't want to require you to download the COCO dataset just to run this demo, so we're including the list of class names below. The index of the class name in the list represent its ID (first class is 0, second is 1, third is 2, ...etc.)"
   ]
  },
  {
   "cell_type": "code",
   "execution_count": 4,
   "metadata": {},
   "outputs": [
    {
     "data": {
      "text/plain": [
       "15"
      ]
     },
     "execution_count": 4,
     "metadata": {},
     "output_type": "execute_result"
    }
   ],
   "source": [
    "# COCO Class names\n",
    "# Index of the class in the list is its ID. For example, to get ID of\n",
    "# the teddy bear class, use: class_names.index('teddy bear')\n",
    "class_names = ['BG', 'person', 'bicycle', 'car', 'motorcycle', 'airplane',\n",
    "               'bus', 'train', 'truck', 'boat', 'traffic light',\n",
    "               'fire hydrant', 'stop sign', 'parking meter', 'bench']#, 'bird',\n",
    "#                'cat', 'dog', 'horse', 'sheep', 'cow', 'elephant', 'bear',\n",
    "#                'zebra', 'giraffe', 'backpack', 'umbrella', 'handbag', 'tie',\n",
    "#                'suitcase', 'frisbee', 'skis', 'snowboard', 'sports ball',\n",
    "#                'kite', 'baseball bat', 'baseball glove', 'skateboard',\n",
    "#                'surfboard', 'tennis racket', 'bottle', 'wine glass', 'cup',\n",
    "#                'fork', 'knife', 'spoon', 'bowl', 'banana', 'apple',\n",
    "#                'sandwich', 'orange', 'broccoli', 'carrot', 'hot dog', 'pizza',\n",
    "#                'donut', 'cake', 'chair', 'couch', 'potted plant', 'bed',\n",
    "#                'dining table', 'toilet', 'tv', 'laptop', 'mouse', 'remote',\n",
    "#                'keyboard', 'cell phone', 'microwave', 'oven', 'toaster',\n",
    "#                'sink', 'refrigerator', 'book', 'clock', 'vase', 'scissors',\n",
    "#                'teddy bear', 'hair drier', 'toothbrush']\n",
    "\n",
    "num_classes = len(class_names)\n",
    "num_classes"
   ]
  },
  {
   "cell_type": "markdown",
   "metadata": {},
   "source": [
    "## Run Object Detection on Taiwan SA dataset"
   ]
  },
  {
   "cell_type": "code",
   "execution_count": 5,
   "metadata": {},
   "outputs": [
    {
     "name": "stdout",
     "output_type": "stream",
     "text": [
      "000456\n",
      "video has been processed!\n",
      "Processing 1 images\n",
      "image                    shape: (720, 1280, 3)        min:    0.00000  max:  255.00000  uint8\n",
      "molded_images            shape: (1, 1024, 1024, 3)    min: -123.70000  max:  151.10000  float64\n",
      "image_metas              shape: (1, 93)               min:    0.00000  max: 1280.00000  float64\n",
      "anchors                  shape: (1, 261888, 4)        min:   -0.35390  max:    1.29134  float32\n"
     ]
    },
    {
     "name": "stderr",
     "output_type": "stream",
     "text": [
      "/home/brianyao/Envs/tf/lib/python3.6/site-packages/skimage/transform/_warps.py:110: UserWarning: Anti-aliasing will be enabled by default in skimage 0.15 to avoid aliasing artifacts when down-sampling images.\n",
      "  warn(\"Anti-aliasing will be enabled by default in skimage 0.15 to \"\n"
     ]
    },
    {
     "name": "stdout",
     "output_type": "stream",
     "text": [
      "detections (1, 100, 6)\n",
      "features:  (1, 4, 1024)\n",
      "[[3, 3], [2, 2], [1, 1], [0, 0]]\n",
      "frame: 0...took: 0.000542s\n",
      "Processing 1 images\n",
      "image                    shape: (720, 1280, 3)        min:    0.00000  max:  255.00000  uint8\n",
      "molded_images            shape: (1, 1024, 1024, 3)    min: -123.70000  max:  151.10000  float64\n",
      "image_metas              shape: (1, 93)               min:    0.00000  max: 1280.00000  float64\n",
      "anchors                  shape: (1, 261888, 4)        min:   -0.35390  max:    1.29134  float32\n",
      "detections (1, 100, 6)\n",
      "features:  (1, 4, 1024)\n",
      "[[0 0]\n",
      " [1 1]\n",
      " [2 2]\n",
      " [3 3]]\n",
      "frame: 1...took: 0.094417s\n",
      "Processing 1 images\n",
      "image                    shape: (720, 1280, 3)        min:    0.00000  max:  255.00000  uint8\n",
      "molded_images            shape: (1, 1024, 1024, 3)    min: -123.70000  max:  151.10000  float64\n",
      "image_metas              shape: (1, 93)               min:    0.00000  max: 1280.00000  float64\n",
      "anchors                  shape: (1, 261888, 4)        min:   -0.35390  max:    1.29134  float32\n"
     ]
    },
    {
     "name": "stderr",
     "output_type": "stream",
     "text": [
      "/home/brianyao/Envs/tf/lib/python3.6/site-packages/skimage/transform/_warps.py:110: UserWarning: Anti-aliasing will be enabled by default in skimage 0.15 to avoid aliasing artifacts when down-sampling images.\n",
      "  warn(\"Anti-aliasing will be enabled by default in skimage 0.15 to \"\n"
     ]
    },
    {
     "name": "stdout",
     "output_type": "stream",
     "text": [
      "detections (1, 100, 6)\n",
      "features:  (1, 4, 1024)\n",
      "[[0 0]\n",
      " [1 2]\n",
      " [2 1]\n",
      " [3 3]]\n",
      "frame: 2...took: 0.000933s\n",
      "Processing 1 images\n",
      "image                    shape: (720, 1280, 3)        min:    0.00000  max:  255.00000  uint8\n",
      "molded_images            shape: (1, 1024, 1024, 3)    min: -123.70000  max:  151.10000  float64\n",
      "image_metas              shape: (1, 93)               min:    0.00000  max: 1280.00000  float64\n",
      "anchors                  shape: (1, 261888, 4)        min:   -0.35390  max:    1.29134  float32\n",
      "detections (1, 100, 6)\n",
      "features:  (1, 4, 1024)\n",
      "[[0 0]\n",
      " [1 1]\n",
      " [2 2]\n",
      " [3 3]]\n",
      "frame: 3...took: 0.000985s\n",
      "Processing 1 images\n",
      "image                    shape: (720, 1280, 3)        min:    0.00000  max:  255.00000  uint8\n",
      "molded_images            shape: (1, 1024, 1024, 3)    min: -123.70000  max:  151.10000  float64\n",
      "image_metas              shape: (1, 93)               min:    0.00000  max: 1280.00000  float64\n",
      "anchors                  shape: (1, 261888, 4)        min:   -0.35390  max:    1.29134  float32\n",
      "detections (1, 100, 6)\n",
      "features:  (1, 4, 1024)\n",
      "[[0 0]\n",
      " [1 2]\n",
      " [2 1]\n",
      " [3 3]]\n",
      "frame: 4...took: 0.000952s\n",
      "Processing 1 images\n",
      "image                    shape: (720, 1280, 3)        min:    0.00000  max:  255.00000  uint8\n",
      "molded_images            shape: (1, 1024, 1024, 3)    min: -123.70000  max:  151.10000  float64\n",
      "image_metas              shape: (1, 93)               min:    0.00000  max: 1280.00000  float64\n",
      "anchors                  shape: (1, 261888, 4)        min:   -0.35390  max:    1.29134  float32\n",
      "detections (1, 100, 6)\n",
      "features:  (1, 4, 1024)\n",
      "[[0 0]\n",
      " [1 1]\n",
      " [2 2]\n",
      " [3 3]]\n",
      "frame: 5...took: 0.001050s\n",
      "Processing 1 images\n",
      "image                    shape: (720, 1280, 3)        min:    0.00000  max:  255.00000  uint8\n",
      "molded_images            shape: (1, 1024, 1024, 3)    min: -123.70000  max:  151.10000  float64\n",
      "image_metas              shape: (1, 93)               min:    0.00000  max: 1280.00000  float64\n",
      "anchors                  shape: (1, 261888, 4)        min:   -0.35390  max:    1.29134  float32\n",
      "detections (1, 100, 6)\n",
      "features:  (1, 4, 1024)\n",
      "[[0 0]\n",
      " [1 2]\n",
      " [2 1]\n",
      " [3 3]]\n",
      "frame: 6...took: 0.001465s\n",
      "One video is written!\n"
     ]
    }
   ],
   "source": [
    "'''Run on KITTI raw images!'''\n",
    "# del sys.modules['sort']\n",
    "# del sys.modules['mrcnn']\n",
    "from mrcnn import visualize\n",
    "from sort.sort import Sort\n",
    "from utils import *\n",
    "import glob\n",
    "import time\n",
    "import numpy as np\n",
    "from PIL import Image\n",
    "\n",
    "import os\n",
    "\n",
    "# only for testing\n",
    "IMG_DIR = '/media/DATA/VAD_datasets/taiwan_sa/testing/frames/'#'/media/DATA/traffic_accident_videos/images_10hz/'\n",
    "OUT_DIR = '/media/DATA/VAD_datasets/taiwan_sa/testing/mask_rcnn_detections/'#'/media/DATA/traffic_accident_videos/mask_rcnn_detections/'\n",
    "SAMPLE_IMG_DIR = OUT_DIR\n",
    "\n",
    "all_folders = glob.glob(IMG_DIR + '*')\n",
    "\n",
    "W = 1280\n",
    "H = 720\n",
    "ROI = [0, 0, 720, 1280]\n",
    "saver = True\n",
    "display = False\n",
    "    \n",
    "colors = np.random.rand(32, 3)\n",
    "'''for saving observations of each video'''\n",
    "all_observations = {}\n",
    "for folder in all_folders:\n",
    "    video_name = folder.split('/')[-1]\n",
    "    print(video_name)    \n",
    "    '''for display'''\n",
    "    if display:\n",
    "        colours = np.random.rand(32, 3)*255  # used only for display\n",
    "        plt.ion()\n",
    "        fig = plt.figure()\n",
    "    \n",
    "    '''init tracker'''\n",
    "    use_dlibTracker = False # True to use dlib correlation tracker, False to use Kalman Filter tracker\n",
    "#     all_trackers =  Sort(ROI, max_age=3,min_hits=3, use_dlib=use_dlibTracker,track_masks=True)\n",
    "    all_trackers =  Sort(max_age=3,min_hits=3)\n",
    "    \n",
    "    '''count time'''\n",
    "    total_time = 0\n",
    "\n",
    "#     '''write results'''\n",
    "    out_file = os.path.join(OUT_DIR, video_name + '.txt')\n",
    "    \n",
    "    feature_out = os.path.join(OUT_DIR, video_name + '.npy')\n",
    "    \n",
    "    try:\n",
    "        os.stat(OUT_DIR)\n",
    "        print(\"video has been processed!\")\n",
    "#         continue\n",
    "    except:\n",
    "        os.mkdir(OUT_DIR)\n",
    "        aa = 1\n",
    "    f_out = open(out_file, 'w')\n",
    "    frame = 0\n",
    "    \n",
    "    '''for saving observations of each car'''\n",
    "    observations = {}\n",
    "    tracked_features = []\n",
    "    all_images = sorted(glob.glob(os.path.join(folder, '*.jpg')))\n",
    "    for image_file in all_images:\n",
    "        img = np.asarray(Image.open(image_file))\n",
    "        \n",
    "        if img is None:\n",
    "            break\n",
    "        \n",
    "        mrcnn_detections  = model.detect([img], verbose=1)[0]\n",
    "        interesting_objects = np.where(mrcnn_detections['class_ids']<num_classes)[0]\n",
    "        \n",
    "        bbox_hash = {}\n",
    "        bboxes = mrcnn_detections['rois'][interesting_objects]\n",
    "        masks = mrcnn_detections['masks'][:,:,interesting_objects]\n",
    "        classes = mrcnn_detections['class_ids'][interesting_objects]\n",
    "        scores = mrcnn_detections['scores'][interesting_objects]\n",
    "        features = mrcnn_detections['roi_features'][interesting_objects]\n",
    "        \n",
    "        for i, bbox in enumerate(bboxes):\n",
    "            bbox_hash[tuple(bbox)] = [classes[i], scores[i],masks[i]]\n",
    "        \n",
    "        \n",
    "        start_time = time.time()\n",
    "        #update tracker\n",
    "#         trackers, feature_list = all_trackers.update(bboxes.astype('int'),\n",
    "#                                                   img=img, \n",
    "#                                                   masks=masks,\n",
    "#                                                   classes=classes,\n",
    "#                                                   scores=scores,\n",
    "#                                                   features=features) # only cars are considered so far.\n",
    "        matched, ret = all_trackers.update(bboxes.astype('int')) # only cars are considered so far.\n",
    "        if frame == 0:\n",
    "            matched = [[row[-1],row[-1]] for row in ret]\n",
    "        print(matched)\n",
    "        trk2det_id_hash = {}\n",
    "        for m in matched:\n",
    "            trk2det_id_hash[m[1]] = m[0]\n",
    "        \n",
    "        # use correlation tracker\n",
    "#         trackers, mask_list = all_trackers.update(bboxes.astype('int'),\n",
    "#                                        img=img,\n",
    "#                                        classes=classes,\n",
    "#                                        scores=scores) # only cars are considered so far.\n",
    "        \n",
    "        \n",
    "\n",
    "        cycle_time = time.time() - start_time\n",
    "        total_time += cycle_time\n",
    "\n",
    "        print('frame: %d...took: %3fs'%(frame,cycle_time))\n",
    "        \n",
    "        tracked_boxes = []\n",
    "        tracked_id = []\n",
    "        tracked_masks = []\n",
    "        tracked_classes = []\n",
    "        tracked_scores = []\n",
    "        \n",
    "#         if not use_dlibTracker:\n",
    "#             for j, (d,features) in enumerate(zip(trackers, feature_list)):\n",
    "#                 tracked_boxes.append(d[:4])\n",
    "#                 tracked_id.append(d[4])\n",
    "#                 tracked_classes.append(d[-1])\n",
    "#                 tracked_scores.append(d[-2])\n",
    "#                 tracked_features.append(feature_list[j])\n",
    "\n",
    "#                 # track_id, frame_id, age, class, score, xmin, ymin, xmax, ymax\n",
    "#                 f_out.write('%d,%d,%d,%d,%d,%.3f,%.3f,%.3f,%.3f\\n' % \n",
    "#                             (d[4], frame, d[5], d[7],d[6], d[0], d[1], d[2], d[3]))\n",
    "                \n",
    "                \n",
    "                \n",
    "#         else:\n",
    "#             for j, d in enumerate(trackers):\n",
    "#                 tracked_boxes.append(d[:4])\n",
    "#                 tracked_id.append(d[4])\n",
    "#                 tracked_classes.append(d[-1])\n",
    "#                 tracked_scores.append(d[-2])\n",
    "#                 tracked_features.append(feature_list[j])\n",
    "#                 # track_id, frame_id, age, class, score, xmin, ymin, xmax, ymax\n",
    "#                 f_out.write('%d,%d,%d,%d,%d,%.3f,%.3f,%.3f,%.3f\\n' % \n",
    "#                             (d[4], frame, d[5], d[7],d[6], d[0], d[1], d[2], d[3]))\n",
    "        for j, d in enumerate(ret):\n",
    "            tracked_boxes.append(d[:4])\n",
    "            tracked_id.append(d[4])\n",
    "            tracked_classes.append(classes[trk2det_id_hash[d[4]]])\n",
    "            tracked_scores.append(scores[trk2det_id_hash[d[4]]])\n",
    "            tracked_masks.append(masks[trk2det_id_hash[d[4]]])\n",
    "            \n",
    "            f_out.write('%d,%d,%d,%.3f,%.3f,%.3f,%.3f,%.3f\\n' % \n",
    "                            (d[4], frame,tracked_classes[j], tracked_scores[j], d[0], d[1], d[2], d[3]))\n",
    "            \n",
    "        tracked_boxes = np.array(tracked_boxes).astype('int')\n",
    "        tracked_id = np.array(tracked_id)\n",
    "        if len(tracked_id) == 0:\n",
    "            continue\n",
    "        tracked_classes = np.array(tracked_classes).astype('int')\n",
    "        tracked_scores = np.array(tracked_scores)\n",
    "\n",
    "    \n",
    "#         save masked images\n",
    "        save_path = os.path.join(SAMPLE_IMG_DIR, video_name, str(format(frame,'04'))+'.jpg')\n",
    "        masked_img = visualize.display_tracklets(img,\n",
    "                                            tracked_boxes,\n",
    "                                            tracked_id,\n",
    "                                            tracked_masks, \n",
    "                                            tracked_classes, \n",
    "                                            class_names, \n",
    "                                            tracked_scores,\n",
    "                                            show_mask = False,\n",
    "                                            colors = colors,\n",
    "                                            save_path = save_path)  # used only for display)\n",
    "        if frame > 5:\n",
    "            break\n",
    "        frame += 1\n",
    "#     tracked_features = np.array(tracked_features)\n",
    "#     print(tracked_features.shape)\n",
    "#     np.save(feature_out, tracked_features)\n",
    "    \n",
    "    \n",
    "#         plt.clf()\n",
    "        \n",
    "#         save mask files\n",
    "#         total_mask = np.zeros((640,1280),dtype=bool)\n",
    "#         for i in range(tracked_masks.shape[2]):\n",
    "#             total_mask = np.bitwise_or(total_mask, tracked_masks[:,:,i])\n",
    "\n",
    "#         bbox_mask = np.ones((640,1280))\n",
    "#         for box in tracked_boxes:\n",
    "#             bbox_mask[box[0]:box[2], box[1]:box[3]] = 0\n",
    "#         write_csv(out_path + str(format(frame,'04')) + '.csv' ,total_mask)\n",
    "    \n",
    "    print(\"One video is written!\")\n",
    "    f_out.close()\n",
    "    break"
   ]
  },
  {
   "cell_type": "code",
   "execution_count": 6,
   "metadata": {},
   "outputs": [
    {
     "data": {
      "text/plain": [
       "array([[374, 701, 404, 737,   3],\n",
       "       [359, 523, 519, 689,   2],\n",
       "       [289, 218, 506, 536,   1],\n",
       "       [382, 671, 433, 716,   0]])"
      ]
     },
     "execution_count": 6,
     "metadata": {},
     "output_type": "execute_result"
    }
   ],
   "source": [
    "ret"
   ]
  },
  {
   "cell_type": "code",
   "execution_count": 7,
   "metadata": {},
   "outputs": [
    {
     "data": {
      "text/plain": [
       "array([3, 3, 8, 3], dtype=int32)"
      ]
     },
     "execution_count": 7,
     "metadata": {},
     "output_type": "execute_result"
    }
   ],
   "source": [
    "classes"
   ]
  },
  {
   "cell_type": "code",
   "execution_count": 8,
   "metadata": {},
   "outputs": [
    {
     "data": {
      "text/plain": [
       "array([[383, 671, 433, 717],\n",
       "       [362, 523, 518, 689],\n",
       "       [290, 215, 506, 539],\n",
       "       [375, 701, 404, 738]])"
      ]
     },
     "execution_count": 8,
     "metadata": {},
     "output_type": "execute_result"
    }
   ],
   "source": [
    "bboxes.astype('int')"
   ]
  },
  {
   "cell_type": "code",
   "execution_count": 9,
   "metadata": {},
   "outputs": [
    {
     "data": {
      "text/plain": [
       "array([[0, 0],\n",
       "       [1, 2],\n",
       "       [2, 1],\n",
       "       [3, 3]])"
      ]
     },
     "execution_count": 9,
     "metadata": {},
     "output_type": "execute_result"
    }
   ],
   "source": [
    "matched"
   ]
  },
  {
   "cell_type": "code",
   "execution_count": 10,
   "metadata": {},
   "outputs": [],
   "source": [
    "# import csv\n",
    "# import cv2\n",
    "# import numpy as np\n",
    "# def read_binary(file_path,header=True,delimiter=','):\n",
    "#     # The read-in data should be a N*W matrix,\n",
    "#     # where N is the length of the time sequences,\n",
    "#     # W is the number of sensors/data features\n",
    "#     i = 0\n",
    "#     with open(file_path, 'r') as file:\n",
    "#         reader = csv.reader(file, delimiter = delimiter)\n",
    "#         data=[]\n",
    "#         for line in reader:\n",
    "#             if i == 0 and header:\n",
    "#                 i += +1\n",
    "#             else:\n",
    "#                 for j, element in enumerate(line):\n",
    "#                     if element == 'True':\n",
    "#                         line[j] = 0\n",
    "#                     elif element == 'False':\n",
    "#                         line[j] = 255\n",
    "#                     else:\n",
    "#                         raise ValueError(\"Data type is not boolean!!\")\n",
    "                    \n",
    "#                 line = np.array(line) # str2float\n",
    "#                 if i == 0  or (i == 1 and header):\n",
    "#                     data = line\n",
    "#                 else:\n",
    "#                     data = np.vstack((data, line))\n",
    "#                 i += 1\n",
    "#     return data"
   ]
  },
  {
   "cell_type": "code",
   "execution_count": 11,
   "metadata": {},
   "outputs": [],
   "source": [
    "# # from data_reader import *\n",
    "# masks = read_binary('/home/yyao/Documents/car_intersection/tracking_output/mask_rcnn/201804171444003136/0001.csv',header=False)"
   ]
  }
 ],
 "metadata": {
  "kernelspec": {
   "display_name": "Python 3",
   "language": "python",
   "name": "python3"
  },
  "language_info": {
   "codemirror_mode": {
    "name": "ipython",
    "version": 3
   },
   "file_extension": ".py",
   "mimetype": "text/x-python",
   "name": "python",
   "nbconvert_exporter": "python",
   "pygments_lexer": "ipython3",
   "version": "3.6.7"
  }
 },
 "nbformat": 4,
 "nbformat_minor": 2
}
